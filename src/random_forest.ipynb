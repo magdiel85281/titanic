{
 "cells": [
  {
   "cell_type": "code",
   "execution_count": 1,
   "metadata": {},
   "outputs": [],
   "source": [
    "%load_ext autoreload\n",
    "%autoreload 2\n",
    "\n",
    "import pandas as pd\n",
    "import matplotlib.pyplot as plt\n",
    "from titanic_data import TitanicData, ModelInput\n",
    "from sklearn.model_selection import GridSearchCV\n",
    "from sklearn.ensemble import RandomForestClassifier\n",
    "from sklearn.metrics import confusion_matrix, accuracy_score, f1_score"
   ]
  },
  {
   "cell_type": "markdown",
   "metadata": {},
   "source": [
    "## Fetch Data"
   ]
  },
  {
   "cell_type": "code",
   "execution_count": 2,
   "metadata": {},
   "outputs": [],
   "source": [
    "t = TitanicData()\n",
    "t.fetch_data()"
   ]
  },
  {
   "cell_type": "markdown",
   "metadata": {},
   "source": [
    "## Feature Engineering: First Impressions\n",
    "New columns representing:\n",
    "- Fill null Age values with average by Sex, Embarked\n",
    "- Convert Pclass, Sex, SibSp, and Parch to categorical (get_dummies)\n",
    "- CabinFlag: 1 or 0\n",
    "- Cabin Section and make categorical\n",
    "- LastName\n",
    "- Scale (after train-test-split)"
   ]
  },
  {
   "cell_type": "code",
   "execution_count": 3,
   "metadata": {},
   "outputs": [],
   "source": [
    "t.set()"
   ]
  },
  {
   "cell_type": "code",
   "execution_count": 4,
   "metadata": {},
   "outputs": [
    {
     "data": {
      "text/plain": [
       "Index(['PassengerId', 'Survived', 'Name', 'Age', 'Ticket', 'Fare', 'Cabin',\n",
       "       'LastName', 'CabinFlag', 'Pclass_2', 'Pclass_3', 'Sex_male', 'SibSp_1',\n",
       "       'SibSp_2', 'SibSp_3', 'SibSp_4', 'SibSp_5', 'SibSp_8', 'Parch_1',\n",
       "       'Parch_2', 'Parch_3', 'Parch_4', 'Parch_5', 'Parch_6', 'Embarked_Q',\n",
       "       'Embarked_S', 'Section_B', 'Section_C', 'Section_D', 'Section_E',\n",
       "       'Section_F', 'Section_G', 'Section_T', 'TicketType_A5', 'TicketType_C',\n",
       "       'TicketType_CA', 'TicketType_CA/SOTON', 'TicketType_FC',\n",
       "       'TicketType_FCC', 'TicketType_Fa', 'TicketType_GENERAL',\n",
       "       'TicketType_P/PP', 'TicketType_PC', 'TicketType_PP', 'TicketType_SC',\n",
       "       'TicketType_SC/A4', 'TicketType_SC/AH', 'TicketType_SC/PARIS',\n",
       "       'TicketType_SC/Paris', 'TicketType_SCO/W', 'TicketType_SO/C',\n",
       "       'TicketType_SO/PP', 'TicketType_SOC', 'TicketType_SOP',\n",
       "       'TicketType_SOTON/O2', 'TicketType_SOTON/OQ', 'TicketType_SP',\n",
       "       'TicketType_STON/O2', 'TicketType_SW/PP', 'TicketType_WC',\n",
       "       'TicketType_WEP'],\n",
       "      dtype='object')"
      ]
     },
     "execution_count": 4,
     "metadata": {},
     "output_type": "execute_result"
    }
   ],
   "source": [
    "t.data.columns"
   ]
  },
  {
   "cell_type": "markdown",
   "metadata": {},
   "source": [
    "## Build Input for Model\n",
    "Set the features to be used for training the model. Then do a Train-Test Split and Scale Numerical Data."
   ]
  },
  {
   "cell_type": "code",
   "execution_count": 5,
   "metadata": {},
   "outputs": [],
   "source": [
    "mi = ModelInput(t.data, t.test_data)\n",
    "\n",
    "mi.set_features()\n",
    "mi.train_test_split(test_size=0.2)\n",
    "mi.scale()"
   ]
  },
  {
   "cell_type": "markdown",
   "metadata": {},
   "source": [
    "# Grid Search & Random Forest Classifier\n",
    "Use GridSearchCV to iteratively train several Random Forest Classifers, find the best parameters, and make predictions. You can, then, visually inspect the results of grid search with `gs.cv_results_`."
   ]
  },
  {
   "cell_type": "code",
   "execution_count": 6,
   "metadata": {},
   "outputs": [
    {
     "name": "stdout",
     "output_type": "stream",
     "text": [
      "Fitting 5 folds for each of 20 candidates, totalling 100 fits\n"
     ]
    },
    {
     "name": "stderr",
     "output_type": "stream",
     "text": [
      "[Parallel(n_jobs=1)]: Using backend SequentialBackend with 1 concurrent workers.\n",
      "[Parallel(n_jobs=1)]: Done 100 out of 100 | elapsed:  3.7min finished\n"
     ]
    },
    {
     "data": {
      "text/plain": [
       "GridSearchCV(estimator=RandomForestClassifier(n_jobs=2, random_state=123),\n",
       "             param_grid={'max_depth': [1, 2, 3, 5, 7],\n",
       "                         'n_estimators': [100, 300, 1000, 3000]},\n",
       "             verbose=1)"
      ]
     },
     "execution_count": 6,
     "metadata": {},
     "output_type": "execute_result"
    }
   ],
   "source": [
    "params = {'n_estimators': [100, 300, 1000, 3000], 'max_depth': [1, 2, 3, 5, 7]}\n",
    "\n",
    "rf = RandomForestClassifier(criterion='gini', \n",
    "                            n_jobs=2, \n",
    "                            random_state=123)\n",
    "\n",
    "gs = GridSearchCV(rf, params, verbose=1)\n",
    "gs.fit(mi.X_train, mi.y_train)"
   ]
  },
  {
   "cell_type": "code",
   "execution_count": 7,
   "metadata": {},
   "outputs": [
    {
     "data": {
      "text/plain": [
       "{'mean_fit_time': array([0.55199385, 0.67308612, 1.85633564, 4.87338786, 0.25254078,\n",
       "        0.61530862, 1.73247666, 5.02148042, 0.26258559, 0.62436709,\n",
       "        1.76412168, 4.83537111, 0.25025325, 0.59776754, 1.6925199 ,\n",
       "        4.84280252, 0.25591526, 0.59499984, 1.77147918, 4.98741174]),\n",
       " 'std_fit_time': array([0.60451799, 0.09960891, 0.12395176, 0.13727169, 0.0107465 ,\n",
       "        0.04410264, 0.03823952, 0.15498442, 0.02936297, 0.02994281,\n",
       "        0.0799333 , 0.123267  , 0.01937219, 0.02518918, 0.01699699,\n",
       "        0.0353487 , 0.02295863, 0.02148238, 0.01274678, 0.07129498]),\n",
       " 'mean_score_time': array([0.10792899, 0.10486073, 0.30760174, 0.71041784, 0.10571198,\n",
       "        0.10547519, 0.30684605, 0.70846524, 0.10525069, 0.10507126,\n",
       "        0.3064754 , 0.70994425, 0.10545502, 0.10518985, 0.30629792,\n",
       "        0.70812454, 0.10520859, 0.10468445, 0.30650506, 0.70849061]),\n",
       " 'std_score_time': array([5.60005646e-03, 3.68068882e-04, 9.53306859e-04, 1.24804965e-03,\n",
       "        6.77992543e-04, 6.96760943e-04, 9.73854494e-04, 1.48527908e-03,\n",
       "        1.98985043e-04, 8.31739544e-04, 2.30068815e-04, 1.54538820e-03,\n",
       "        5.79717697e-04, 9.87568090e-05, 4.31856875e-04, 5.75441318e-04,\n",
       "        4.27162943e-04, 4.17702481e-04, 3.45470236e-04, 1.08275694e-03]),\n",
       " 'param_max_depth': masked_array(data=[1, 1, 1, 1, 2, 2, 2, 2, 3, 3, 3, 3, 5, 5, 5, 5, 7, 7,\n",
       "                    7, 7],\n",
       "              mask=[False, False, False, False, False, False, False, False,\n",
       "                    False, False, False, False, False, False, False, False,\n",
       "                    False, False, False, False],\n",
       "        fill_value='?',\n",
       "             dtype=object),\n",
       " 'param_n_estimators': masked_array(data=[100, 300, 1000, 3000, 100, 300, 1000, 3000, 100, 300,\n",
       "                    1000, 3000, 100, 300, 1000, 3000, 100, 300, 1000, 3000],\n",
       "              mask=[False, False, False, False, False, False, False, False,\n",
       "                    False, False, False, False, False, False, False, False,\n",
       "                    False, False, False, False],\n",
       "        fill_value='?',\n",
       "             dtype=object),\n",
       " 'params': [{'max_depth': 1, 'n_estimators': 100},\n",
       "  {'max_depth': 1, 'n_estimators': 300},\n",
       "  {'max_depth': 1, 'n_estimators': 1000},\n",
       "  {'max_depth': 1, 'n_estimators': 3000},\n",
       "  {'max_depth': 2, 'n_estimators': 100},\n",
       "  {'max_depth': 2, 'n_estimators': 300},\n",
       "  {'max_depth': 2, 'n_estimators': 1000},\n",
       "  {'max_depth': 2, 'n_estimators': 3000},\n",
       "  {'max_depth': 3, 'n_estimators': 100},\n",
       "  {'max_depth': 3, 'n_estimators': 300},\n",
       "  {'max_depth': 3, 'n_estimators': 1000},\n",
       "  {'max_depth': 3, 'n_estimators': 3000},\n",
       "  {'max_depth': 5, 'n_estimators': 100},\n",
       "  {'max_depth': 5, 'n_estimators': 300},\n",
       "  {'max_depth': 5, 'n_estimators': 1000},\n",
       "  {'max_depth': 5, 'n_estimators': 3000},\n",
       "  {'max_depth': 7, 'n_estimators': 100},\n",
       "  {'max_depth': 7, 'n_estimators': 300},\n",
       "  {'max_depth': 7, 'n_estimators': 1000},\n",
       "  {'max_depth': 7, 'n_estimators': 3000}],\n",
       " 'split0_test_score': array([0.62937063, 0.62237762, 0.63636364, 0.61538462, 0.74125874,\n",
       "        0.74825175, 0.74825175, 0.74825175, 0.79020979, 0.7972028 ,\n",
       "        0.7972028 , 0.7972028 , 0.82517483, 0.83916084, 0.83916084,\n",
       "        0.83916084, 0.84615385, 0.83916084, 0.84615385, 0.84615385]),\n",
       " 'split1_test_score': array([0.62937063, 0.62237762, 0.62937063, 0.62237762, 0.75524476,\n",
       "        0.75524476, 0.76223776, 0.75524476, 0.76223776, 0.77622378,\n",
       "        0.77622378, 0.77622378, 0.82517483, 0.81118881, 0.81118881,\n",
       "        0.8041958 , 0.8041958 , 0.81118881, 0.82517483, 0.81818182]),\n",
       " 'split2_test_score': array([0.61267606, 0.6056338 , 0.62676056, 0.61971831, 0.75352113,\n",
       "        0.76056338, 0.76056338, 0.76056338, 0.78873239, 0.79577465,\n",
       "        0.78873239, 0.78873239, 0.76760563, 0.76760563, 0.78169014,\n",
       "        0.78169014, 0.8028169 , 0.78873239, 0.78873239, 0.78169014]),\n",
       " 'split3_test_score': array([0.61267606, 0.61971831, 0.62676056, 0.61971831, 0.73943662,\n",
       "        0.76056338, 0.76760563, 0.76760563, 0.8028169 , 0.78873239,\n",
       "        0.8028169 , 0.8028169 , 0.8028169 , 0.79577465, 0.79577465,\n",
       "        0.79577465, 0.79577465, 0.8028169 , 0.8028169 , 0.8028169 ]),\n",
       " 'split4_test_score': array([0.61971831, 0.63380282, 0.64788732, 0.62676056, 0.74647887,\n",
       "        0.75352113, 0.75352113, 0.75352113, 0.74647887, 0.77464789,\n",
       "        0.78169014, 0.78873239, 0.8028169 , 0.79577465, 0.81690141,\n",
       "        0.81690141, 0.83098592, 0.83802817, 0.83802817, 0.83802817]),\n",
       " 'mean_test_score': array([0.62076234, 0.62078203, 0.63342854, 0.62079188, 0.74718802,\n",
       "        0.75562888, 0.75843593, 0.75703733, 0.77809514, 0.7865163 ,\n",
       "        0.7893332 , 0.79074165, 0.80471782, 0.80190092, 0.80894317,\n",
       "        0.80754457, 0.81598542, 0.81598542, 0.82018123, 0.81737418]),\n",
       " 'std_test_score': array([0.00748427, 0.00900259, 0.00803818, 0.00373319, 0.0063366 ,\n",
       "        0.00464135, 0.00679612, 0.00658613, 0.02060158, 0.00950394,\n",
       "        0.00974038, 0.00901555, 0.02107852, 0.02334864, 0.01948138,\n",
       "        0.01952094, 0.0192667 , 0.01980973, 0.02148756, 0.0234127 ]),\n",
       " 'rank_test_score': array([20, 19, 17, 18, 16, 15, 13, 14, 12, 11, 10,  9,  7,  8,  5,  6,  3,\n",
       "         4,  1,  2], dtype=int32)}"
      ]
     },
     "execution_count": 7,
     "metadata": {},
     "output_type": "execute_result"
    }
   ],
   "source": [
    "gs.cv_results_"
   ]
  },
  {
   "cell_type": "markdown",
   "metadata": {},
   "source": [
    "Optimized results from `gs.cv_results_` can be obtained by finding the min index of `gs.cv_results_['rank_test_score']`."
   ]
  },
  {
   "cell_type": "code",
   "execution_count": 8,
   "metadata": {},
   "outputs": [
    {
     "name": "stdout",
     "output_type": "stream",
     "text": [
      "Best Params: {'max_depth': 7, 'n_estimators': 1000}\n"
     ]
    }
   ],
   "source": [
    "best_idx = gs.cv_results_['rank_test_score'].argmin()\n",
    "best_params = gs.cv_results_['params'][best_idx]\n",
    "print(f'Best Params: {best_params}')"
   ]
  },
  {
   "cell_type": "markdown",
   "metadata": {},
   "source": [
    "## Apply Optimized Parameters to Classifier\n",
    "An optimal max_depth of 7, especially for such a relatively small set of training data, makes me very suspicious that overfitting is occurring. In fact, dialing down this param did, indeed, improve the score by 0.012 upon submission of the predictions on the unseen data."
   ]
  },
  {
   "cell_type": "code",
   "execution_count": 9,
   "metadata": {},
   "outputs": [],
   "source": [
    "rf = RandomForestClassifier(n_estimators=best_params['n_estimators'], \n",
    "                            max_depth=best_params['max_depth'], \n",
    "                            criterion='gini', \n",
    "                            n_jobs=2, \n",
    "                            random_state=123)"
   ]
  },
  {
   "cell_type": "code",
   "execution_count": 10,
   "metadata": {},
   "outputs": [],
   "source": [
    "rf.fit(mi.X_train, mi.y_train)\n",
    "y_pred = rf.predict(mi.X_test)"
   ]
  },
  {
   "cell_type": "code",
   "execution_count": 11,
   "metadata": {},
   "outputs": [
    {
     "name": "stdout",
     "output_type": "stream",
     "text": [
      "Accuracy: \t0.8770949720670391\n",
      "F1: \t\t0.819672131147541\n",
      "Confusion Matrix: \n",
      "[[107   7]\n",
      " [ 15  50]]\n"
     ]
    }
   ],
   "source": [
    "acc = accuracy_score(mi.y_test, y_pred)\n",
    "f1 = f1_score(mi.y_test, y_pred)\n",
    "cm = confusion_matrix(mi.y_test, y_pred)\n",
    "\n",
    "print(f'Accuracy: \\t{acc}')\n",
    "print(f'F1: \\t\\t{f1}')\n",
    "print(f'Confusion Matrix: \\n{cm}')"
   ]
  },
  {
   "cell_type": "markdown",
   "metadata": {},
   "source": [
    "## Feature Importance"
   ]
  },
  {
   "cell_type": "code",
   "execution_count": 12,
   "metadata": {},
   "outputs": [
    {
     "data": {
      "text/plain": [
       "Text(0.5, 0, 'Average Contribution to Information Gain')"
      ]
     },
     "execution_count": 12,
     "metadata": {},
     "output_type": "execute_result"
    },
    {
     "data": {
      "image/png": "[encoded data removed]",
      "text/plain": [
       "<Figure size 720x576 with 1 Axes>"
      ]
     },
     "metadata": {
      "needs_background": "light"
     },
     "output_type": "display_data"
    }
   ],
   "source": [
    "feat_scores = pd.Series(rf.feature_importances_, \n",
    "                        index=mi.X_train.columns)\n",
    "feat_scores = feat_scores.sort_values()\n",
    "ax = feat_scores[-20:].plot(kind='barh', figsize=(10, 8))\n",
    "ax.set_title('Average Gini Importance\\nTop 20 Features', fontsize=16)\n",
    "ax.set_xlabel('Average Contribution to Information Gain')"
   ]
  },
  {
   "cell_type": "markdown",
   "metadata": {},
   "source": [
    "# Unseen Test Data\n",
    "Create predictions on unseen test data for submission. The features in unseen data were already modified and scaled in the ModelInput class.\n",
    "\n",
    "Make predictions, write results to csv, then submit using the Kaggle API."
   ]
  },
  {
   "cell_type": "code",
   "execution_count": 13,
   "metadata": {
    "scrolled": true
   },
   "outputs": [
    {
     "data": {
      "text/html": [
       "<div>\n",
       "<style scoped>\n",
       "    .dataframe tbody tr th:only-of-type {\n",
       "        vertical-align: middle;\n",
       "    }\n",
       "\n",
       "    .dataframe tbody tr th {\n",
       "        vertical-align: top;\n",
       "    }\n",
       "\n",
       "    .dataframe thead th {\n",
       "        text-align: right;\n",
       "    }\n",
       "</style>\n",
       "<table border=\"1\" class=\"dataframe\">\n",
       "  <thead>\n",
       "    <tr style=\"text-align: right;\">\n",
       "      <th></th>\n",
       "      <th>Age</th>\n",
       "      <th>Fare</th>\n",
       "      <th>Pclass_2</th>\n",
       "      <th>Pclass_3</th>\n",
       "      <th>Sex_male</th>\n",
       "      <th>SibSp_1</th>\n",
       "      <th>SibSp_2</th>\n",
       "      <th>SibSp_3</th>\n",
       "      <th>SibSp_4</th>\n",
       "      <th>SibSp_5</th>\n",
       "      <th>...</th>\n",
       "      <th>TicketType_SO/PP</th>\n",
       "      <th>TicketType_SOC</th>\n",
       "      <th>TicketType_SOP</th>\n",
       "      <th>TicketType_SOTON/O2</th>\n",
       "      <th>TicketType_SOTON/OQ</th>\n",
       "      <th>TicketType_SP</th>\n",
       "      <th>TicketType_STON/O2</th>\n",
       "      <th>TicketType_SW/PP</th>\n",
       "      <th>TicketType_WC</th>\n",
       "      <th>TicketType_WEP</th>\n",
       "    </tr>\n",
       "  </thead>\n",
       "  <tbody>\n",
       "    <tr>\n",
       "      <th>0</th>\n",
       "      <td>0.428248</td>\n",
       "      <td>0.015282</td>\n",
       "      <td>0.0</td>\n",
       "      <td>1.0</td>\n",
       "      <td>1.0</td>\n",
       "      <td>0.0</td>\n",
       "      <td>0.0</td>\n",
       "      <td>0.0</td>\n",
       "      <td>0.0</td>\n",
       "      <td>0.0</td>\n",
       "      <td>...</td>\n",
       "      <td>0.0</td>\n",
       "      <td>0.0</td>\n",
       "      <td>0.0</td>\n",
       "      <td>0.0</td>\n",
       "      <td>0.0</td>\n",
       "      <td>0.0</td>\n",
       "      <td>0.0</td>\n",
       "      <td>0.0</td>\n",
       "      <td>0.0</td>\n",
       "      <td>0.0</td>\n",
       "    </tr>\n",
       "    <tr>\n",
       "      <th>1</th>\n",
       "      <td>0.585323</td>\n",
       "      <td>0.013663</td>\n",
       "      <td>0.0</td>\n",
       "      <td>1.0</td>\n",
       "      <td>0.0</td>\n",
       "      <td>1.0</td>\n",
       "      <td>0.0</td>\n",
       "      <td>0.0</td>\n",
       "      <td>0.0</td>\n",
       "      <td>0.0</td>\n",
       "      <td>...</td>\n",
       "      <td>0.0</td>\n",
       "      <td>0.0</td>\n",
       "      <td>0.0</td>\n",
       "      <td>0.0</td>\n",
       "      <td>0.0</td>\n",
       "      <td>0.0</td>\n",
       "      <td>0.0</td>\n",
       "      <td>0.0</td>\n",
       "      <td>0.0</td>\n",
       "      <td>0.0</td>\n",
       "    </tr>\n",
       "    <tr>\n",
       "      <th>2</th>\n",
       "      <td>0.773813</td>\n",
       "      <td>0.018909</td>\n",
       "      <td>1.0</td>\n",
       "      <td>0.0</td>\n",
       "      <td>1.0</td>\n",
       "      <td>0.0</td>\n",
       "      <td>0.0</td>\n",
       "      <td>0.0</td>\n",
       "      <td>0.0</td>\n",
       "      <td>0.0</td>\n",
       "      <td>...</td>\n",
       "      <td>0.0</td>\n",
       "      <td>0.0</td>\n",
       "      <td>0.0</td>\n",
       "      <td>0.0</td>\n",
       "      <td>0.0</td>\n",
       "      <td>0.0</td>\n",
       "      <td>0.0</td>\n",
       "      <td>0.0</td>\n",
       "      <td>0.0</td>\n",
       "      <td>0.0</td>\n",
       "    </tr>\n",
       "    <tr>\n",
       "      <th>3</th>\n",
       "      <td>0.334004</td>\n",
       "      <td>0.016908</td>\n",
       "      <td>0.0</td>\n",
       "      <td>1.0</td>\n",
       "      <td>1.0</td>\n",
       "      <td>0.0</td>\n",
       "      <td>0.0</td>\n",
       "      <td>0.0</td>\n",
       "      <td>0.0</td>\n",
       "      <td>0.0</td>\n",
       "      <td>...</td>\n",
       "      <td>0.0</td>\n",
       "      <td>0.0</td>\n",
       "      <td>0.0</td>\n",
       "      <td>0.0</td>\n",
       "      <td>0.0</td>\n",
       "      <td>0.0</td>\n",
       "      <td>0.0</td>\n",
       "      <td>0.0</td>\n",
       "      <td>0.0</td>\n",
       "      <td>0.0</td>\n",
       "    </tr>\n",
       "    <tr>\n",
       "      <th>4</th>\n",
       "      <td>0.271174</td>\n",
       "      <td>0.023984</td>\n",
       "      <td>0.0</td>\n",
       "      <td>1.0</td>\n",
       "      <td>0.0</td>\n",
       "      <td>1.0</td>\n",
       "      <td>0.0</td>\n",
       "      <td>0.0</td>\n",
       "      <td>0.0</td>\n",
       "      <td>0.0</td>\n",
       "      <td>...</td>\n",
       "      <td>0.0</td>\n",
       "      <td>0.0</td>\n",
       "      <td>0.0</td>\n",
       "      <td>0.0</td>\n",
       "      <td>0.0</td>\n",
       "      <td>0.0</td>\n",
       "      <td>0.0</td>\n",
       "      <td>0.0</td>\n",
       "      <td>0.0</td>\n",
       "      <td>0.0</td>\n",
       "    </tr>\n",
       "  </tbody>\n",
       "</table>\n",
       "<p>5 rows × 54 columns</p>\n",
       "</div>"
      ],
      "text/plain": [
       "        Age      Fare  Pclass_2  Pclass_3  Sex_male  SibSp_1  SibSp_2  \\\n",
       "0  0.428248  0.015282       0.0       1.0       1.0      0.0      0.0   \n",
       "1  0.585323  0.013663       0.0       1.0       0.0      1.0      0.0   \n",
       "2  0.773813  0.018909       1.0       0.0       1.0      0.0      0.0   \n",
       "3  0.334004  0.016908       0.0       1.0       1.0      0.0      0.0   \n",
       "4  0.271174  0.023984       0.0       1.0       0.0      1.0      0.0   \n",
       "\n",
       "   SibSp_3  SibSp_4  SibSp_5  ...  TicketType_SO/PP  TicketType_SOC  \\\n",
       "0      0.0      0.0      0.0  ...               0.0             0.0   \n",
       "1      0.0      0.0      0.0  ...               0.0             0.0   \n",
       "2      0.0      0.0      0.0  ...               0.0             0.0   \n",
       "3      0.0      0.0      0.0  ...               0.0             0.0   \n",
       "4      0.0      0.0      0.0  ...               0.0             0.0   \n",
       "\n",
       "   TicketType_SOP  TicketType_SOTON/O2  TicketType_SOTON/OQ  TicketType_SP  \\\n",
       "0             0.0                  0.0                  0.0            0.0   \n",
       "1             0.0                  0.0                  0.0            0.0   \n",
       "2             0.0                  0.0                  0.0            0.0   \n",
       "3             0.0                  0.0                  0.0            0.0   \n",
       "4             0.0                  0.0                  0.0            0.0   \n",
       "\n",
       "   TicketType_STON/O2  TicketType_SW/PP  TicketType_WC  TicketType_WEP  \n",
       "0                 0.0               0.0            0.0             0.0  \n",
       "1                 0.0               0.0            0.0             0.0  \n",
       "2                 0.0               0.0            0.0             0.0  \n",
       "3                 0.0               0.0            0.0             0.0  \n",
       "4                 0.0               0.0            0.0             0.0  \n",
       "\n",
       "[5 rows x 54 columns]"
      ]
     },
     "execution_count": 13,
     "metadata": {},
     "output_type": "execute_result"
    }
   ],
   "source": [
    "mi.hidden_data.head()"
   ]
  },
  {
   "cell_type": "code",
   "execution_count": 14,
   "metadata": {},
   "outputs": [],
   "source": [
    "y_pred_submit = rf.predict(mi.hidden_data)"
   ]
  },
  {
   "cell_type": "code",
   "execution_count": 15,
   "metadata": {},
   "outputs": [],
   "source": [
    "submission = pd.DataFrame(data={\n",
    "    'PassengerId': t.test_data.loc[:, 'PassengerId'], \n",
    "    'Survived': y_pred_submit})\n",
    "\n",
    "submission.to_csv('../data/rf_output_opt_params.csv', index=False)"
   ]
  },
  {
   "cell_type": "code",
   "execution_count": 16,
   "metadata": {},
   "outputs": [
    {
     "name": "stdout",
     "output_type": "stream",
     "text": [
      "100%|██████████████████████████████████████| 2.77k/2.77k [00:02<00:00, 1.13kB/s]\n",
      "Successfully submitted to Titanic: Machine Learning from Disaster"
     ]
    }
   ],
   "source": [
    "!kaggle competitions submit -c titanic -f ../data/rf_output_opt_params.csv -m \"random forest classifier with optimized params\""
   ]
  },
  {
   "cell_type": "code",
   "execution_count": null,
   "metadata": {},
   "outputs": [],
   "source": []
  }
 ],
 "metadata": {
  "kernelspec": {
   "display_name": "Python 3",
   "language": "python",
   "name": "python3"
  },
  "language_info": {
   "codemirror_mode": {
    "name": "ipython",
    "version": 3
   },
   "file_extension": ".py",
   "mimetype": "text/x-python",
   "name": "python",
   "nbconvert_exporter": "python",
   "pygments_lexer": "ipython3",
   "version": "3.7.6"
  }
 },
 "nbformat": 4,
 "nbformat_minor": 4
}
